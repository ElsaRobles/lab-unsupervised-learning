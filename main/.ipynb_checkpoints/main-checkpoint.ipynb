{
 "cells": [
  {
   "cell_type": "markdown",
   "metadata": {},
   "source": [
    "# Before your start:\n",
    "- Read the README.md file\n",
    "- Comment as much as you can and use the resources in the README.md file\n",
    "- Happy learning!"
   ]
  },
  {
   "cell_type": "code",
   "execution_count": 15,
   "metadata": {},
   "outputs": [],
   "source": [
    "# Import your libraries:\n",
    "\n",
    "%matplotlib inline\n",
    "\n",
    "import matplotlib.pyplot as plt\n",
    "import numpy as np\n",
    "import pandas as pd\n",
    "import seaborn as sns\n",
    "from sklearn.cluster import KMeans\n",
    "from sklearn.cluster import DBSCAN\n",
    "import seaborn as sns"
   ]
  },
  {
   "cell_type": "markdown",
   "metadata": {},
   "source": [
    "# Challenge 1 - Import and Describe the Dataset\n",
    "\n",
    "In this lab, we will use a dataset containing information about customer preferences. We will look at how much each customer spends in a year on each subcategory in the grocery store and try to find similarities using clustering.\n",
    "\n",
    "The origin of the dataset is [here](https://archive.ics.uci.edu/ml/datasets/wholesale+customers)."
   ]
  },
  {
   "cell_type": "code",
   "execution_count": 16,
   "metadata": {},
   "outputs": [],
   "source": [
    "# loading the data:\n",
    "customers = pd.read_csv('../Wholesale customers data.csv')"
   ]
  },
  {
   "cell_type": "code",
   "execution_count": 27,
   "metadata": {},
   "outputs": [
    {
     "data": {
      "text/html": [
       "<div>\n",
       "<style scoped>\n",
       "    .dataframe tbody tr th:only-of-type {\n",
       "        vertical-align: middle;\n",
       "    }\n",
       "\n",
       "    .dataframe tbody tr th {\n",
       "        vertical-align: top;\n",
       "    }\n",
       "\n",
       "    .dataframe thead th {\n",
       "        text-align: right;\n",
       "    }\n",
       "</style>\n",
       "<table border=\"1\" class=\"dataframe\">\n",
       "  <thead>\n",
       "    <tr style=\"text-align: right;\">\n",
       "      <th></th>\n",
       "      <th>Channel</th>\n",
       "      <th>Region</th>\n",
       "      <th>Fresh</th>\n",
       "      <th>Milk</th>\n",
       "      <th>Grocery</th>\n",
       "      <th>Frozen</th>\n",
       "      <th>Detergents_Paper</th>\n",
       "      <th>Delicassen</th>\n",
       "    </tr>\n",
       "  </thead>\n",
       "  <tbody>\n",
       "    <tr>\n",
       "      <th>0</th>\n",
       "      <td>2</td>\n",
       "      <td>3</td>\n",
       "      <td>12669</td>\n",
       "      <td>9656</td>\n",
       "      <td>7561</td>\n",
       "      <td>214</td>\n",
       "      <td>2674</td>\n",
       "      <td>1338</td>\n",
       "    </tr>\n",
       "    <tr>\n",
       "      <th>1</th>\n",
       "      <td>2</td>\n",
       "      <td>3</td>\n",
       "      <td>7057</td>\n",
       "      <td>9810</td>\n",
       "      <td>9568</td>\n",
       "      <td>1762</td>\n",
       "      <td>3293</td>\n",
       "      <td>1776</td>\n",
       "    </tr>\n",
       "    <tr>\n",
       "      <th>2</th>\n",
       "      <td>2</td>\n",
       "      <td>3</td>\n",
       "      <td>6353</td>\n",
       "      <td>8808</td>\n",
       "      <td>7684</td>\n",
       "      <td>2405</td>\n",
       "      <td>3516</td>\n",
       "      <td>7844</td>\n",
       "    </tr>\n",
       "    <tr>\n",
       "      <th>3</th>\n",
       "      <td>1</td>\n",
       "      <td>3</td>\n",
       "      <td>13265</td>\n",
       "      <td>1196</td>\n",
       "      <td>4221</td>\n",
       "      <td>6404</td>\n",
       "      <td>507</td>\n",
       "      <td>1788</td>\n",
       "    </tr>\n",
       "    <tr>\n",
       "      <th>4</th>\n",
       "      <td>2</td>\n",
       "      <td>3</td>\n",
       "      <td>22615</td>\n",
       "      <td>5410</td>\n",
       "      <td>7198</td>\n",
       "      <td>3915</td>\n",
       "      <td>1777</td>\n",
       "      <td>5185</td>\n",
       "    </tr>\n",
       "  </tbody>\n",
       "</table>\n",
       "</div>"
      ],
      "text/plain": [
       "   Channel  Region  Fresh  Milk  Grocery  Frozen  Detergents_Paper  Delicassen\n",
       "0        2       3  12669  9656     7561     214              2674        1338\n",
       "1        2       3   7057  9810     9568    1762              3293        1776\n",
       "2        2       3   6353  8808     7684    2405              3516        7844\n",
       "3        1       3  13265  1196     4221    6404               507        1788\n",
       "4        2       3  22615  5410     7198    3915              1777        5185"
      ]
     },
     "execution_count": 27,
     "metadata": {},
     "output_type": "execute_result"
    }
   ],
   "source": [
    "# Your code here:\n",
    "customers.head()"
   ]
  },
  {
   "cell_type": "markdown",
   "metadata": {},
   "source": [
    "#### Explore the dataset with mathematical and visualization techniques. What do you find?\n",
    "\n",
    "Checklist:\n",
    "\n",
    "* What does each column mean?\n",
    "* Any categorical data to convert?\n",
    "* Any missing data to remove?\n",
    "* Column collinearity - any high correlations?\n",
    "* Descriptive statistics - any outliers to remove?\n",
    "* Column-wise data distribution - is the distribution skewed?\n",
    "* Etc.\n",
    "\n",
    "Additional info: Over a century ago, an Italian economist named Vilfredo Pareto discovered that roughly 20% of the customers account for 80% of the typical retail sales. This is called the [Pareto principle](https://en.wikipedia.org/wiki/Pareto_principle). Check if this dataset displays this characteristic."
   ]
  },
  {
   "cell_type": "code",
   "execution_count": 26,
   "metadata": {},
   "outputs": [
    {
     "name": "stdout",
     "output_type": "stream",
     "text": [
      "<class 'pandas.core.frame.DataFrame'>\n",
      "RangeIndex: 440 entries, 0 to 439\n",
      "Data columns (total 8 columns):\n",
      "Channel             440 non-null int64\n",
      "Region              440 non-null int64\n",
      "Fresh               440 non-null int64\n",
      "Milk                440 non-null int64\n",
      "Grocery             440 non-null int64\n",
      "Frozen              440 non-null int64\n",
      "Detergents_Paper    440 non-null int64\n",
      "Delicassen          440 non-null int64\n",
      "dtypes: int64(8)\n",
      "memory usage: 27.6 KB\n"
     ]
    }
   ],
   "source": [
    "customers.info()"
   ]
  },
  {
   "cell_type": "code",
   "execution_count": 30,
   "metadata": {},
   "outputs": [
    {
     "data": {
      "text/html": [
       "<div>\n",
       "<style scoped>\n",
       "    .dataframe tbody tr th:only-of-type {\n",
       "        vertical-align: middle;\n",
       "    }\n",
       "\n",
       "    .dataframe tbody tr th {\n",
       "        vertical-align: top;\n",
       "    }\n",
       "\n",
       "    .dataframe thead th {\n",
       "        text-align: right;\n",
       "    }\n",
       "</style>\n",
       "<table border=\"1\" class=\"dataframe\">\n",
       "  <thead>\n",
       "    <tr style=\"text-align: right;\">\n",
       "      <th></th>\n",
       "      <th>count</th>\n",
       "      <th>mean</th>\n",
       "      <th>std</th>\n",
       "      <th>min</th>\n",
       "      <th>25%</th>\n",
       "      <th>50%</th>\n",
       "      <th>75%</th>\n",
       "      <th>max</th>\n",
       "    </tr>\n",
       "  </thead>\n",
       "  <tbody>\n",
       "    <tr>\n",
       "      <th>Channel</th>\n",
       "      <td>440.0</td>\n",
       "      <td>1.322727</td>\n",
       "      <td>0.468052</td>\n",
       "      <td>1.0</td>\n",
       "      <td>1.00</td>\n",
       "      <td>1.0</td>\n",
       "      <td>2.00</td>\n",
       "      <td>2.0</td>\n",
       "    </tr>\n",
       "    <tr>\n",
       "      <th>Region</th>\n",
       "      <td>440.0</td>\n",
       "      <td>2.543182</td>\n",
       "      <td>0.774272</td>\n",
       "      <td>1.0</td>\n",
       "      <td>2.00</td>\n",
       "      <td>3.0</td>\n",
       "      <td>3.00</td>\n",
       "      <td>3.0</td>\n",
       "    </tr>\n",
       "    <tr>\n",
       "      <th>Fresh</th>\n",
       "      <td>440.0</td>\n",
       "      <td>12000.297727</td>\n",
       "      <td>12647.328865</td>\n",
       "      <td>3.0</td>\n",
       "      <td>3127.75</td>\n",
       "      <td>8504.0</td>\n",
       "      <td>16933.75</td>\n",
       "      <td>112151.0</td>\n",
       "    </tr>\n",
       "    <tr>\n",
       "      <th>Milk</th>\n",
       "      <td>440.0</td>\n",
       "      <td>5796.265909</td>\n",
       "      <td>7380.377175</td>\n",
       "      <td>55.0</td>\n",
       "      <td>1533.00</td>\n",
       "      <td>3627.0</td>\n",
       "      <td>7190.25</td>\n",
       "      <td>73498.0</td>\n",
       "    </tr>\n",
       "    <tr>\n",
       "      <th>Grocery</th>\n",
       "      <td>440.0</td>\n",
       "      <td>7951.277273</td>\n",
       "      <td>9503.162829</td>\n",
       "      <td>3.0</td>\n",
       "      <td>2153.00</td>\n",
       "      <td>4755.5</td>\n",
       "      <td>10655.75</td>\n",
       "      <td>92780.0</td>\n",
       "    </tr>\n",
       "    <tr>\n",
       "      <th>Frozen</th>\n",
       "      <td>440.0</td>\n",
       "      <td>3071.931818</td>\n",
       "      <td>4854.673333</td>\n",
       "      <td>25.0</td>\n",
       "      <td>742.25</td>\n",
       "      <td>1526.0</td>\n",
       "      <td>3554.25</td>\n",
       "      <td>60869.0</td>\n",
       "    </tr>\n",
       "    <tr>\n",
       "      <th>Detergents_Paper</th>\n",
       "      <td>440.0</td>\n",
       "      <td>2881.493182</td>\n",
       "      <td>4767.854448</td>\n",
       "      <td>3.0</td>\n",
       "      <td>256.75</td>\n",
       "      <td>816.5</td>\n",
       "      <td>3922.00</td>\n",
       "      <td>40827.0</td>\n",
       "    </tr>\n",
       "    <tr>\n",
       "      <th>Delicassen</th>\n",
       "      <td>440.0</td>\n",
       "      <td>1524.870455</td>\n",
       "      <td>2820.105937</td>\n",
       "      <td>3.0</td>\n",
       "      <td>408.25</td>\n",
       "      <td>965.5</td>\n",
       "      <td>1820.25</td>\n",
       "      <td>47943.0</td>\n",
       "    </tr>\n",
       "  </tbody>\n",
       "</table>\n",
       "</div>"
      ],
      "text/plain": [
       "                  count          mean           std   min      25%     50%  \\\n",
       "Channel           440.0      1.322727      0.468052   1.0     1.00     1.0   \n",
       "Region            440.0      2.543182      0.774272   1.0     2.00     3.0   \n",
       "Fresh             440.0  12000.297727  12647.328865   3.0  3127.75  8504.0   \n",
       "Milk              440.0   5796.265909   7380.377175  55.0  1533.00  3627.0   \n",
       "Grocery           440.0   7951.277273   9503.162829   3.0  2153.00  4755.5   \n",
       "Frozen            440.0   3071.931818   4854.673333  25.0   742.25  1526.0   \n",
       "Detergents_Paper  440.0   2881.493182   4767.854448   3.0   256.75   816.5   \n",
       "Delicassen        440.0   1524.870455   2820.105937   3.0   408.25   965.5   \n",
       "\n",
       "                       75%       max  \n",
       "Channel               2.00       2.0  \n",
       "Region                3.00       3.0  \n",
       "Fresh             16933.75  112151.0  \n",
       "Milk               7190.25   73498.0  \n",
       "Grocery           10655.75   92780.0  \n",
       "Frozen             3554.25   60869.0  \n",
       "Detergents_Paper   3922.00   40827.0  \n",
       "Delicassen         1820.25   47943.0  "
      ]
     },
     "execution_count": 30,
     "metadata": {},
     "output_type": "execute_result"
    }
   ],
   "source": [
    "customers.describe().transpose()"
   ]
  },
  {
   "cell_type": "code",
   "execution_count": 18,
   "metadata": {},
   "outputs": [
    {
     "data": {
      "text/html": [
       "<div>\n",
       "<style scoped>\n",
       "    .dataframe tbody tr th:only-of-type {\n",
       "        vertical-align: middle;\n",
       "    }\n",
       "\n",
       "    .dataframe tbody tr th {\n",
       "        vertical-align: top;\n",
       "    }\n",
       "\n",
       "    .dataframe thead th {\n",
       "        text-align: right;\n",
       "    }\n",
       "</style>\n",
       "<table border=\"1\" class=\"dataframe\">\n",
       "  <thead>\n",
       "    <tr style=\"text-align: right;\">\n",
       "      <th></th>\n",
       "      <th>Channel</th>\n",
       "      <th>Region</th>\n",
       "      <th>Fresh</th>\n",
       "      <th>Milk</th>\n",
       "      <th>Grocery</th>\n",
       "      <th>Frozen</th>\n",
       "      <th>Detergents_Paper</th>\n",
       "      <th>Delicassen</th>\n",
       "    </tr>\n",
       "  </thead>\n",
       "  <tbody>\n",
       "    <tr>\n",
       "      <th>Channel</th>\n",
       "      <td>1.000000</td>\n",
       "      <td>0.062028</td>\n",
       "      <td>-0.169172</td>\n",
       "      <td>0.460720</td>\n",
       "      <td>0.608792</td>\n",
       "      <td>-0.202046</td>\n",
       "      <td>0.636026</td>\n",
       "      <td>0.056011</td>\n",
       "    </tr>\n",
       "    <tr>\n",
       "      <th>Region</th>\n",
       "      <td>0.062028</td>\n",
       "      <td>1.000000</td>\n",
       "      <td>0.055287</td>\n",
       "      <td>0.032288</td>\n",
       "      <td>0.007696</td>\n",
       "      <td>-0.021044</td>\n",
       "      <td>-0.001483</td>\n",
       "      <td>0.045212</td>\n",
       "    </tr>\n",
       "    <tr>\n",
       "      <th>Fresh</th>\n",
       "      <td>-0.169172</td>\n",
       "      <td>0.055287</td>\n",
       "      <td>1.000000</td>\n",
       "      <td>0.100510</td>\n",
       "      <td>-0.011854</td>\n",
       "      <td>0.345881</td>\n",
       "      <td>-0.101953</td>\n",
       "      <td>0.244690</td>\n",
       "    </tr>\n",
       "    <tr>\n",
       "      <th>Milk</th>\n",
       "      <td>0.460720</td>\n",
       "      <td>0.032288</td>\n",
       "      <td>0.100510</td>\n",
       "      <td>1.000000</td>\n",
       "      <td>0.728335</td>\n",
       "      <td>0.123994</td>\n",
       "      <td>0.661816</td>\n",
       "      <td>0.406368</td>\n",
       "    </tr>\n",
       "    <tr>\n",
       "      <th>Grocery</th>\n",
       "      <td>0.608792</td>\n",
       "      <td>0.007696</td>\n",
       "      <td>-0.011854</td>\n",
       "      <td>0.728335</td>\n",
       "      <td>1.000000</td>\n",
       "      <td>-0.040193</td>\n",
       "      <td>0.924641</td>\n",
       "      <td>0.205497</td>\n",
       "    </tr>\n",
       "    <tr>\n",
       "      <th>Frozen</th>\n",
       "      <td>-0.202046</td>\n",
       "      <td>-0.021044</td>\n",
       "      <td>0.345881</td>\n",
       "      <td>0.123994</td>\n",
       "      <td>-0.040193</td>\n",
       "      <td>1.000000</td>\n",
       "      <td>-0.131525</td>\n",
       "      <td>0.390947</td>\n",
       "    </tr>\n",
       "    <tr>\n",
       "      <th>Detergents_Paper</th>\n",
       "      <td>0.636026</td>\n",
       "      <td>-0.001483</td>\n",
       "      <td>-0.101953</td>\n",
       "      <td>0.661816</td>\n",
       "      <td>0.924641</td>\n",
       "      <td>-0.131525</td>\n",
       "      <td>1.000000</td>\n",
       "      <td>0.069291</td>\n",
       "    </tr>\n",
       "    <tr>\n",
       "      <th>Delicassen</th>\n",
       "      <td>0.056011</td>\n",
       "      <td>0.045212</td>\n",
       "      <td>0.244690</td>\n",
       "      <td>0.406368</td>\n",
       "      <td>0.205497</td>\n",
       "      <td>0.390947</td>\n",
       "      <td>0.069291</td>\n",
       "      <td>1.000000</td>\n",
       "    </tr>\n",
       "  </tbody>\n",
       "</table>\n",
       "</div>"
      ],
      "text/plain": [
       "                   Channel    Region     Fresh      Milk   Grocery    Frozen  \\\n",
       "Channel           1.000000  0.062028 -0.169172  0.460720  0.608792 -0.202046   \n",
       "Region            0.062028  1.000000  0.055287  0.032288  0.007696 -0.021044   \n",
       "Fresh            -0.169172  0.055287  1.000000  0.100510 -0.011854  0.345881   \n",
       "Milk              0.460720  0.032288  0.100510  1.000000  0.728335  0.123994   \n",
       "Grocery           0.608792  0.007696 -0.011854  0.728335  1.000000 -0.040193   \n",
       "Frozen           -0.202046 -0.021044  0.345881  0.123994 -0.040193  1.000000   \n",
       "Detergents_Paper  0.636026 -0.001483 -0.101953  0.661816  0.924641 -0.131525   \n",
       "Delicassen        0.056011  0.045212  0.244690  0.406368  0.205497  0.390947   \n",
       "\n",
       "                  Detergents_Paper  Delicassen  \n",
       "Channel                   0.636026    0.056011  \n",
       "Region                   -0.001483    0.045212  \n",
       "Fresh                    -0.101953    0.244690  \n",
       "Milk                      0.661816    0.406368  \n",
       "Grocery                   0.924641    0.205497  \n",
       "Frozen                   -0.131525    0.390947  \n",
       "Detergents_Paper          1.000000    0.069291  \n",
       "Delicassen                0.069291    1.000000  "
      ]
     },
     "execution_count": 18,
     "metadata": {},
     "output_type": "execute_result"
    }
   ],
   "source": [
    "customers.corr()"
   ]
  },
  {
   "cell_type": "code",
   "execution_count": 33,
   "metadata": {},
   "outputs": [
    {
     "data": {
      "image/png": "[encoded data removed]",
      "text/plain": [
       "<Figure size 720x720 with 2 Axes>"
      ]
     },
     "metadata": {
      "needs_background": "light"
     },
     "output_type": "display_data"
    }
   ],
   "source": [
    "plt.figure(figsize=(10,10))\n",
    "sns.heatmap(customers.corr(), annot=True);"
   ]
  },
  {
   "cell_type": "code",
   "execution_count": 34,
   "metadata": {},
   "outputs": [
    {
     "data": {
      "image/png": "[encoded data removed]",
      "text/plain": [
       "<Figure size 864x576 with 1 Axes>"
      ]
     },
     "metadata": {
      "needs_background": "light"
     },
     "output_type": "display_data"
    }
   ],
   "source": [
    "customers.plot(kind='box', figsize=(12,8))\n",
    "plt.show()"
   ]
  },
  {
   "cell_type": "code",
   "execution_count": 29,
   "metadata": {},
   "outputs": [
    {
     "data": {
      "image/png": "[encoded data removed]",
      "text/plain": [
       "<Figure size 432x288 with 9 Axes>"
      ]
     },
     "metadata": {
      "needs_background": "light"
     },
     "output_type": "display_data"
    }
   ],
   "source": [
    "customers.hist();"
   ]
  },
  {
   "cell_type": "code",
   "execution_count": null,
   "metadata": {},
   "outputs": [],
   "source": [
    "# Your observations here\n",
    "\n",
    "#What does each column mean? The DataFrame contains 8 columns and 440 entries (including index). Each column represents a retail department segmentation. \n",
    "#Any categorical data to convert? No, all the data is numric: int. \n",
    "#Any missing data to remove? No. \n",
    "#Column collinearity - any high correlations? There is a corrlation bettewn Dtergents_paper and Grocety data. \n",
    "#Descriptive statistics - any outliers to remove? Not necessarily \n",
    "#Column-wise data distribution - is the distribution skewed? Positively skewed"
   ]
  },
  {
   "cell_type": "markdown",
   "metadata": {},
   "source": [
    "# Challenge 2 - Data Cleaning and Transformation\n",
    "\n",
    "If your conclusion from the previous challenge is the data need cleaning/transformation, do it in the cells below. However, if your conclusion is the data need not be cleaned or transformed, feel free to skip this challenge. But if you do choose the latter, please provide rationale."
   ]
  },
  {
   "cell_type": "code",
   "execution_count": null,
   "metadata": {},
   "outputs": [],
   "source": [
    "# Your code here"
   ]
  },
  {
   "cell_type": "code",
   "execution_count": null,
   "metadata": {},
   "outputs": [],
   "source": [
    "# Your comment here"
   ]
  },
  {
   "cell_type": "markdown",
   "metadata": {},
   "source": [
    "# Challenge 3 - Data Preprocessing\n",
    "\n",
    "One problem with the dataset is the value ranges are remarkably different across various categories (e.g. `Fresh` and `Grocery` compared to `Detergents_Paper` and `Delicassen`). If you made this observation in the first challenge, you've done a great job! This means you not only completed the bonus questions in the previous Supervised Learning lab but also researched deep into [*feature scaling*](https://en.wikipedia.org/wiki/Feature_scaling). Keep on the good work!\n",
    "\n",
    "Diverse value ranges in different features could cause issues in our clustering. The way to reduce the problem is through feature scaling. We'll use this technique again with this dataset.\n",
    "\n",
    "#### We will use the `StandardScaler` from `sklearn.preprocessing` and scale our data. Read more about `StandardScaler` [here](https://scikit-learn.org/stable/modules/generated/sklearn.preprocessing.StandardScaler.html#sklearn.preprocessing.StandardScaler).\n",
    "\n",
    "*After scaling your data, assign the transformed data to a new variable `customers_scale`.*"
   ]
  },
  {
   "cell_type": "code",
   "execution_count": 36,
   "metadata": {},
   "outputs": [],
   "source": [
    "# Your import here:\n",
    "\n",
    "from sklearn.preprocessing import StandardScaler\n",
    "\n",
    "# Your code here:\n",
    "\n",
    "scaler = StandardScaler() #To initialize the scaler\n",
    "\n",
    "#.fit= compute the mean and std to be used for later scaling.\n",
    "#.fit_transform Fit to data, then transform it.\n",
    "#Passing the DataFrame thorug the scaler and transformed it.\n",
    "\n",
    "customers_scale = pd.DataFrame(scaler.fit_transform(customers))\n",
    "#Assingning the transformation to the new variable customers_scale."
   ]
  },
  {
   "cell_type": "code",
   "execution_count": 37,
   "metadata": {},
   "outputs": [
    {
     "data": {
      "text/html": [
       "<div>\n",
       "<style scoped>\n",
       "    .dataframe tbody tr th:only-of-type {\n",
       "        vertical-align: middle;\n",
       "    }\n",
       "\n",
       "    .dataframe tbody tr th {\n",
       "        vertical-align: top;\n",
       "    }\n",
       "\n",
       "    .dataframe thead th {\n",
       "        text-align: right;\n",
       "    }\n",
       "</style>\n",
       "<table border=\"1\" class=\"dataframe\">\n",
       "  <thead>\n",
       "    <tr style=\"text-align: right;\">\n",
       "      <th></th>\n",
       "      <th>0</th>\n",
       "      <th>1</th>\n",
       "      <th>2</th>\n",
       "      <th>3</th>\n",
       "      <th>4</th>\n",
       "      <th>5</th>\n",
       "      <th>6</th>\n",
       "      <th>7</th>\n",
       "    </tr>\n",
       "  </thead>\n",
       "  <tbody>\n",
       "    <tr>\n",
       "      <th>0</th>\n",
       "      <td>1.448652</td>\n",
       "      <td>0.590668</td>\n",
       "      <td>0.052933</td>\n",
       "      <td>0.523568</td>\n",
       "      <td>-0.041115</td>\n",
       "      <td>-0.589367</td>\n",
       "      <td>-0.043569</td>\n",
       "      <td>-0.066339</td>\n",
       "    </tr>\n",
       "    <tr>\n",
       "      <th>1</th>\n",
       "      <td>1.448652</td>\n",
       "      <td>0.590668</td>\n",
       "      <td>-0.391302</td>\n",
       "      <td>0.544458</td>\n",
       "      <td>0.170318</td>\n",
       "      <td>-0.270136</td>\n",
       "      <td>0.086407</td>\n",
       "      <td>0.089151</td>\n",
       "    </tr>\n",
       "    <tr>\n",
       "      <th>2</th>\n",
       "      <td>1.448652</td>\n",
       "      <td>0.590668</td>\n",
       "      <td>-0.447029</td>\n",
       "      <td>0.408538</td>\n",
       "      <td>-0.028157</td>\n",
       "      <td>-0.137536</td>\n",
       "      <td>0.133232</td>\n",
       "      <td>2.243293</td>\n",
       "    </tr>\n",
       "    <tr>\n",
       "      <th>3</th>\n",
       "      <td>-0.690297</td>\n",
       "      <td>0.590668</td>\n",
       "      <td>0.100111</td>\n",
       "      <td>-0.624020</td>\n",
       "      <td>-0.392977</td>\n",
       "      <td>0.687144</td>\n",
       "      <td>-0.498588</td>\n",
       "      <td>0.093411</td>\n",
       "    </tr>\n",
       "    <tr>\n",
       "      <th>4</th>\n",
       "      <td>1.448652</td>\n",
       "      <td>0.590668</td>\n",
       "      <td>0.840239</td>\n",
       "      <td>-0.052396</td>\n",
       "      <td>-0.079356</td>\n",
       "      <td>0.173859</td>\n",
       "      <td>-0.231918</td>\n",
       "      <td>1.299347</td>\n",
       "    </tr>\n",
       "    <tr>\n",
       "      <th>...</th>\n",
       "      <td>...</td>\n",
       "      <td>...</td>\n",
       "      <td>...</td>\n",
       "      <td>...</td>\n",
       "      <td>...</td>\n",
       "      <td>...</td>\n",
       "      <td>...</td>\n",
       "      <td>...</td>\n",
       "    </tr>\n",
       "    <tr>\n",
       "      <th>435</th>\n",
       "      <td>-0.690297</td>\n",
       "      <td>0.590668</td>\n",
       "      <td>1.401312</td>\n",
       "      <td>0.848446</td>\n",
       "      <td>0.850760</td>\n",
       "      <td>2.075222</td>\n",
       "      <td>-0.566831</td>\n",
       "      <td>0.241091</td>\n",
       "    </tr>\n",
       "    <tr>\n",
       "      <th>436</th>\n",
       "      <td>-0.690297</td>\n",
       "      <td>0.590668</td>\n",
       "      <td>2.155293</td>\n",
       "      <td>-0.592142</td>\n",
       "      <td>-0.757165</td>\n",
       "      <td>0.296561</td>\n",
       "      <td>-0.585519</td>\n",
       "      <td>0.291501</td>\n",
       "    </tr>\n",
       "    <tr>\n",
       "      <th>437</th>\n",
       "      <td>1.448652</td>\n",
       "      <td>0.590668</td>\n",
       "      <td>0.200326</td>\n",
       "      <td>1.314671</td>\n",
       "      <td>2.348386</td>\n",
       "      <td>-0.543380</td>\n",
       "      <td>2.511218</td>\n",
       "      <td>0.121456</td>\n",
       "    </tr>\n",
       "    <tr>\n",
       "      <th>438</th>\n",
       "      <td>-0.690297</td>\n",
       "      <td>0.590668</td>\n",
       "      <td>-0.135384</td>\n",
       "      <td>-0.517536</td>\n",
       "      <td>-0.602514</td>\n",
       "      <td>-0.419441</td>\n",
       "      <td>-0.569770</td>\n",
       "      <td>0.213046</td>\n",
       "    </tr>\n",
       "    <tr>\n",
       "      <th>439</th>\n",
       "      <td>-0.690297</td>\n",
       "      <td>0.590668</td>\n",
       "      <td>-0.729307</td>\n",
       "      <td>-0.555924</td>\n",
       "      <td>-0.573227</td>\n",
       "      <td>-0.620094</td>\n",
       "      <td>-0.504888</td>\n",
       "      <td>-0.522869</td>\n",
       "    </tr>\n",
       "  </tbody>\n",
       "</table>\n",
       "<p>440 rows × 8 columns</p>\n",
       "</div>"
      ],
      "text/plain": [
       "            0         1         2         3         4         5         6  \\\n",
       "0    1.448652  0.590668  0.052933  0.523568 -0.041115 -0.589367 -0.043569   \n",
       "1    1.448652  0.590668 -0.391302  0.544458  0.170318 -0.270136  0.086407   \n",
       "2    1.448652  0.590668 -0.447029  0.408538 -0.028157 -0.137536  0.133232   \n",
       "3   -0.690297  0.590668  0.100111 -0.624020 -0.392977  0.687144 -0.498588   \n",
       "4    1.448652  0.590668  0.840239 -0.052396 -0.079356  0.173859 -0.231918   \n",
       "..        ...       ...       ...       ...       ...       ...       ...   \n",
       "435 -0.690297  0.590668  1.401312  0.848446  0.850760  2.075222 -0.566831   \n",
       "436 -0.690297  0.590668  2.155293 -0.592142 -0.757165  0.296561 -0.585519   \n",
       "437  1.448652  0.590668  0.200326  1.314671  2.348386 -0.543380  2.511218   \n",
       "438 -0.690297  0.590668 -0.135384 -0.517536 -0.602514 -0.419441 -0.569770   \n",
       "439 -0.690297  0.590668 -0.729307 -0.555924 -0.573227 -0.620094 -0.504888   \n",
       "\n",
       "            7  \n",
       "0   -0.066339  \n",
       "1    0.089151  \n",
       "2    2.243293  \n",
       "3    0.093411  \n",
       "4    1.299347  \n",
       "..        ...  \n",
       "435  0.241091  \n",
       "436  0.291501  \n",
       "437  0.121456  \n",
       "438  0.213046  \n",
       "439 -0.522869  \n",
       "\n",
       "[440 rows x 8 columns]"
      ]
     },
     "execution_count": 37,
     "metadata": {},
     "output_type": "execute_result"
    }
   ],
   "source": [
    "customers_scale"
   ]
  },
  {
   "cell_type": "markdown",
   "metadata": {},
   "source": [
    "# Challenge 3 - Data Clustering with K-Means\n",
    "\n",
    "Now let's cluster the data with K-Means first. Initiate the K-Means model, then fit your scaled data. In the data returned from the `.fit` method, there is an attribute called `labels_` which is the cluster number assigned to each data record. What you can do is to assign these labels back to `customers` in a new column called `customers['labels']`. Then you'll see the cluster results of the original data."
   ]
  },
  {
   "cell_type": "code",
   "execution_count": 41,
   "metadata": {
    "scrolled": true
   },
   "outputs": [],
   "source": [
    "# Your code here:\n",
    "\n",
    "kmeans = KMeans() #Model initialization \n",
    "\n",
    "#Applying the model to the scaled data\n",
    "data_clustered = kmeans.fit(customers_scale) \n",
    "\n",
    "#Assigning the labels in which each cluster number was recorded the data\n",
    "customers['labels']= customers_clusters.labels_ "
   ]
  },
  {
   "cell_type": "markdown",
   "metadata": {},
   "source": [
    "Count the values in `labels`."
   ]
  },
  {
   "cell_type": "code",
   "execution_count": 42,
   "metadata": {},
   "outputs": [
    {
     "data": {
      "text/plain": [
       "440"
      ]
     },
     "execution_count": 42,
     "metadata": {},
     "output_type": "execute_result"
    }
   ],
   "source": [
    "# Your code here:\n",
    "\n",
    "len(customers_clusters.labels_) \n",
    "\n",
    "#We haven't missed observations, still remain 440. "
   ]
  },
  {
   "cell_type": "markdown",
   "metadata": {},
   "source": [
    "# Challenge 4 - Data Clustering with DBSCAN\n",
    "\n",
    "Now let's cluster the data using DBSCAN. Use `DBSCAN(eps=0.5)` to initiate the model, then fit your scaled data. In the data returned from the `.fit` method, assign the `labels_` back to `customers['labels_DBSCAN']`. Now your original data have two labels, one from K-Means and the other from DBSCAN."
   ]
  },
  {
   "cell_type": "code",
   "execution_count": 46,
   "metadata": {
    "scrolled": true
   },
   "outputs": [],
   "source": [
    "# Your code here\n",
    "\n",
    "dbscan_model = DBSCAN(eps=0.5)  #Model initialization \n",
    "\n",
    "#Applying the model to the scaled data\n",
    "dbscan_model.fit(customers_scale)\n",
    "\n",
    "#Assigning the labels in which each cluster number was recorded the data\n",
    "customers['labels_DBSCAN'] = dbscan_model.labels_"
   ]
  },
  {
   "cell_type": "markdown",
   "metadata": {},
   "source": [
    "Count the values in `labels_DBSCAN`."
   ]
  },
  {
   "cell_type": "code",
   "execution_count": 47,
   "metadata": {},
   "outputs": [
    {
     "name": "stdout",
     "output_type": "stream",
     "text": [
      "440\n"
     ]
    }
   ],
   "source": [
    "# Your code here\n",
    "\n",
    "print(len(dbscan_model.labels_))\n",
    "#We haven't missed observations, still remain 440. "
   ]
  },
  {
   "cell_type": "markdown",
   "metadata": {},
   "source": [
    "# Challenge 5 - Compare K-Means with DBSCAN\n",
    "\n",
    "Now we want to visually compare how K-Means and DBSCAN have clustered our data. We will create scatter plots for several columns. For each of the following column pairs, plot a scatter plot using `labels` and another using `labels_DBSCAN`. Put them side by side to compare. Which clustering algorithm makes better sense?\n",
    "\n",
    "Columns to visualize:\n",
    "\n",
    "* `Detergents_Paper` as X and `Milk` as y\n",
    "* `Grocery` as X and `Fresh` as y\n",
    "* `Frozen` as X and `Delicassen` as y"
   ]
  },
  {
   "cell_type": "markdown",
   "metadata": {},
   "source": [
    "Visualize `Detergents_Paper` as X and `Milk` as y by `labels` and `labels_DBSCAN` respectively"
   ]
  },
  {
   "cell_type": "code",
   "execution_count": 62,
   "metadata": {},
   "outputs": [
    {
     "data": {
      "image/png": "[encoded data removed]",
      "text/plain": [
       "<Figure size 864x576 with 2 Axes>"
      ]
     },
     "metadata": {
      "needs_background": "light"
     },
     "output_type": "display_data"
    }
   ],
   "source": [
    "# Your code here:\n",
    "\n",
    "f, axes = plt.subplots(1, 2, figsize=(12,8)) \n",
    "\n",
    "\n",
    "sns.scatterplot(y=\"Milk\", x= \"Detergents_Paper\", hue=\"labels\", data=customers, ax=axes[0], palette = \"Greens\");\n",
    "sns.scatterplot(y=\"Milk\", x= \"Detergents_Paper\", hue=\"labels_DBSCAN\", data=customers, ax=axes[1], palette = \"Blues\");"
   ]
  },
  {
   "cell_type": "markdown",
   "metadata": {},
   "source": [
    "Visualize `Grocery` as X and `Fresh` as y by `labels` and `labels_DBSCAN` respectively"
   ]
  },
  {
   "cell_type": "code",
   "execution_count": 63,
   "metadata": {},
   "outputs": [
    {
     "data": {
      "image/png": "[encoded data removed]",
      "text/plain": [
       "<Figure size 864x576 with 2 Axes>"
      ]
     },
     "metadata": {
      "needs_background": "light"
     },
     "output_type": "display_data"
    }
   ],
   "source": [
    "# Your code here:\n",
    "f, axes = plt.subplots(1, 2, figsize=(12,8))\n",
    "\n",
    "\n",
    "sns.scatterplot(y=\"Grocery\", x= \"Fresh\", hue=\"labels\", data=customers, ax=axes[0], palette = \"Greens\");\n",
    "sns.scatterplot(y=\"Grocery\", x= \"Fresh\", hue=\"labels_DBSCAN\", data=customers, ax=axes[1], palette = \"Blues\");"
   ]
  },
  {
   "cell_type": "markdown",
   "metadata": {},
   "source": [
    "Visualize `Frozen` as X and `Delicassen` as y by `labels` and `labels_DBSCAN` respectively"
   ]
  },
  {
   "cell_type": "code",
   "execution_count": 64,
   "metadata": {},
   "outputs": [
    {
     "data": {
      "image/png": "[encoded data removed]",
      "text/plain": [
       "<Figure size 864x576 with 2 Axes>"
      ]
     },
     "metadata": {
      "needs_background": "light"
     },
     "output_type": "display_data"
    }
   ],
   "source": [
    "# Your code here:\n",
    "\n",
    "f, axes = plt.subplots(1, 2, figsize=(12,8))\n",
    "\n",
    "\n",
    "sns.scatterplot(y=\"Frozen\", x= \"Delicassen\", hue=\"labels\", data=customers, ax=axes[0], palette = \"Greens\");\n",
    "sns.scatterplot(y=\"Frozen\", x= \"Delicassen\", hue=\"labels_DBSCAN\", data=customers, ax=axes[1], palette = \"Blues\");"
   ]
  },
  {
   "cell_type": "markdown",
   "metadata": {},
   "source": [
    "Let's use a groupby to see how the mean differs between the groups. Group `customers` by `labels` and `labels_DBSCAN` respectively and compute the means for all columns."
   ]
  },
  {
   "cell_type": "code",
   "execution_count": 65,
   "metadata": {},
   "outputs": [
    {
     "data": {
      "text/html": [
       "<div>\n",
       "<style scoped>\n",
       "    .dataframe tbody tr th:only-of-type {\n",
       "        vertical-align: middle;\n",
       "    }\n",
       "\n",
       "    .dataframe tbody tr th {\n",
       "        vertical-align: top;\n",
       "    }\n",
       "\n",
       "    .dataframe thead th {\n",
       "        text-align: right;\n",
       "    }\n",
       "</style>\n",
       "<table border=\"1\" class=\"dataframe\">\n",
       "  <thead>\n",
       "    <tr style=\"text-align: right;\">\n",
       "      <th></th>\n",
       "      <th>Channel</th>\n",
       "      <th>Region</th>\n",
       "      <th>Fresh</th>\n",
       "      <th>Milk</th>\n",
       "      <th>Grocery</th>\n",
       "      <th>Frozen</th>\n",
       "      <th>Detergents_Paper</th>\n",
       "      <th>Delicassen</th>\n",
       "      <th>labels_DBSCAN</th>\n",
       "    </tr>\n",
       "    <tr>\n",
       "      <th>labels</th>\n",
       "      <th></th>\n",
       "      <th></th>\n",
       "      <th></th>\n",
       "      <th></th>\n",
       "      <th></th>\n",
       "      <th></th>\n",
       "      <th></th>\n",
       "      <th></th>\n",
       "      <th></th>\n",
       "    </tr>\n",
       "  </thead>\n",
       "  <tbody>\n",
       "    <tr>\n",
       "      <th>0</th>\n",
       "      <td>1.004762</td>\n",
       "      <td>3.000000</td>\n",
       "      <td>13423.571429</td>\n",
       "      <td>3172.000000</td>\n",
       "      <td>3746.371429</td>\n",
       "      <td>3427.100000</td>\n",
       "      <td>768.219048</td>\n",
       "      <td>1267.142857</td>\n",
       "      <td>0.309524</td>\n",
       "    </tr>\n",
       "    <tr>\n",
       "      <th>1</th>\n",
       "      <td>2.000000</td>\n",
       "      <td>2.672000</td>\n",
       "      <td>7877.640000</td>\n",
       "      <td>8913.512000</td>\n",
       "      <td>14212.624000</td>\n",
       "      <td>1339.280000</td>\n",
       "      <td>6149.592000</td>\n",
       "      <td>1537.168000</td>\n",
       "      <td>-0.520000</td>\n",
       "    </tr>\n",
       "    <tr>\n",
       "      <th>2</th>\n",
       "      <td>1.054348</td>\n",
       "      <td>1.315217</td>\n",
       "      <td>12407.130435</td>\n",
       "      <td>3401.771739</td>\n",
       "      <td>4234.130435</td>\n",
       "      <td>4082.282609</td>\n",
       "      <td>864.739130</td>\n",
       "      <td>1198.402174</td>\n",
       "      <td>1.326087</td>\n",
       "    </tr>\n",
       "    <tr>\n",
       "      <th>3</th>\n",
       "      <td>1.846154</td>\n",
       "      <td>2.615385</td>\n",
       "      <td>25770.769231</td>\n",
       "      <td>35160.384615</td>\n",
       "      <td>41977.384615</td>\n",
       "      <td>6844.538462</td>\n",
       "      <td>19867.384615</td>\n",
       "      <td>7880.307692</td>\n",
       "      <td>-1.000000</td>\n",
       "    </tr>\n",
       "  </tbody>\n",
       "</table>\n",
       "</div>"
      ],
      "text/plain": [
       "         Channel    Region         Fresh          Milk       Grocery  \\\n",
       "labels                                                                 \n",
       "0       1.004762  3.000000  13423.571429   3172.000000   3746.371429   \n",
       "1       2.000000  2.672000   7877.640000   8913.512000  14212.624000   \n",
       "2       1.054348  1.315217  12407.130435   3401.771739   4234.130435   \n",
       "3       1.846154  2.615385  25770.769231  35160.384615  41977.384615   \n",
       "\n",
       "             Frozen  Detergents_Paper   Delicassen  labels_DBSCAN  \n",
       "labels                                                             \n",
       "0       3427.100000        768.219048  1267.142857       0.309524  \n",
       "1       1339.280000       6149.592000  1537.168000      -0.520000  \n",
       "2       4082.282609        864.739130  1198.402174       1.326087  \n",
       "3       6844.538462      19867.384615  7880.307692      -1.000000  "
      ]
     },
     "execution_count": 65,
     "metadata": {},
     "output_type": "execute_result"
    }
   ],
   "source": [
    "# Your code here:\n",
    "customers.groupby('labels').mean()"
   ]
  },
  {
   "cell_type": "code",
   "execution_count": 66,
   "metadata": {},
   "outputs": [
    {
     "data": {
      "text/html": [
       "<div>\n",
       "<style scoped>\n",
       "    .dataframe tbody tr th:only-of-type {\n",
       "        vertical-align: middle;\n",
       "    }\n",
       "\n",
       "    .dataframe tbody tr th {\n",
       "        vertical-align: top;\n",
       "    }\n",
       "\n",
       "    .dataframe thead th {\n",
       "        text-align: right;\n",
       "    }\n",
       "</style>\n",
       "<table border=\"1\" class=\"dataframe\">\n",
       "  <thead>\n",
       "    <tr style=\"text-align: right;\">\n",
       "      <th></th>\n",
       "      <th>Channel</th>\n",
       "      <th>Region</th>\n",
       "      <th>Fresh</th>\n",
       "      <th>Milk</th>\n",
       "      <th>Grocery</th>\n",
       "      <th>Frozen</th>\n",
       "      <th>Detergents_Paper</th>\n",
       "      <th>Delicassen</th>\n",
       "      <th>labels</th>\n",
       "    </tr>\n",
       "    <tr>\n",
       "      <th>labels_DBSCAN</th>\n",
       "      <th></th>\n",
       "      <th></th>\n",
       "      <th></th>\n",
       "      <th></th>\n",
       "      <th></th>\n",
       "      <th></th>\n",
       "      <th></th>\n",
       "      <th></th>\n",
       "      <th></th>\n",
       "    </tr>\n",
       "  </thead>\n",
       "  <tbody>\n",
       "    <tr>\n",
       "      <th>-1</th>\n",
       "      <td>1.490196</td>\n",
       "      <td>2.45098</td>\n",
       "      <td>13729.564706</td>\n",
       "      <td>8359.886275</td>\n",
       "      <td>11484.364706</td>\n",
       "      <td>3795.003922</td>\n",
       "      <td>4356.800000</td>\n",
       "      <td>2080.470588</td>\n",
       "      <td>1.039216</td>\n",
       "    </tr>\n",
       "    <tr>\n",
       "      <th>0</th>\n",
       "      <td>2.000000</td>\n",
       "      <td>3.00000</td>\n",
       "      <td>11401.000000</td>\n",
       "      <td>3536.200000</td>\n",
       "      <td>6729.000000</td>\n",
       "      <td>720.200000</td>\n",
       "      <td>3561.000000</td>\n",
       "      <td>258.200000</td>\n",
       "      <td>1.000000</td>\n",
       "    </tr>\n",
       "    <tr>\n",
       "      <th>1</th>\n",
       "      <td>1.000000</td>\n",
       "      <td>3.00000</td>\n",
       "      <td>9128.823077</td>\n",
       "      <td>1862.438462</td>\n",
       "      <td>2423.530769</td>\n",
       "      <td>2131.430769</td>\n",
       "      <td>496.576923</td>\n",
       "      <td>741.946154</td>\n",
       "      <td>0.000000</td>\n",
       "    </tr>\n",
       "    <tr>\n",
       "      <th>2</th>\n",
       "      <td>1.000000</td>\n",
       "      <td>3.00000</td>\n",
       "      <td>41446.600000</td>\n",
       "      <td>1421.200000</td>\n",
       "      <td>2167.600000</td>\n",
       "      <td>1276.400000</td>\n",
       "      <td>416.200000</td>\n",
       "      <td>784.800000</td>\n",
       "      <td>0.000000</td>\n",
       "    </tr>\n",
       "    <tr>\n",
       "      <th>3</th>\n",
       "      <td>2.000000</td>\n",
       "      <td>3.00000</td>\n",
       "      <td>2357.200000</td>\n",
       "      <td>10224.800000</td>\n",
       "      <td>11862.800000</td>\n",
       "      <td>609.600000</td>\n",
       "      <td>5780.000000</td>\n",
       "      <td>572.800000</td>\n",
       "      <td>1.000000</td>\n",
       "    </tr>\n",
       "    <tr>\n",
       "      <th>4</th>\n",
       "      <td>2.000000</td>\n",
       "      <td>3.00000</td>\n",
       "      <td>3068.142857</td>\n",
       "      <td>6095.857143</td>\n",
       "      <td>10355.000000</td>\n",
       "      <td>994.000000</td>\n",
       "      <td>4675.571429</td>\n",
       "      <td>1826.428571</td>\n",
       "      <td>1.000000</td>\n",
       "    </tr>\n",
       "    <tr>\n",
       "      <th>5</th>\n",
       "      <td>1.000000</td>\n",
       "      <td>1.00000</td>\n",
       "      <td>9837.863636</td>\n",
       "      <td>1751.863636</td>\n",
       "      <td>2161.681818</td>\n",
       "      <td>1513.181818</td>\n",
       "      <td>333.954545</td>\n",
       "      <td>669.045455</td>\n",
       "      <td>2.000000</td>\n",
       "    </tr>\n",
       "    <tr>\n",
       "      <th>6</th>\n",
       "      <td>1.000000</td>\n",
       "      <td>1.00000</td>\n",
       "      <td>6823.000000</td>\n",
       "      <td>1943.000000</td>\n",
       "      <td>2372.666667</td>\n",
       "      <td>6780.333333</td>\n",
       "      <td>386.500000</td>\n",
       "      <td>613.666667</td>\n",
       "      <td>2.000000</td>\n",
       "    </tr>\n",
       "    <tr>\n",
       "      <th>7</th>\n",
       "      <td>1.000000</td>\n",
       "      <td>2.00000</td>\n",
       "      <td>7494.600000</td>\n",
       "      <td>1537.600000</td>\n",
       "      <td>3383.000000</td>\n",
       "      <td>2575.400000</td>\n",
       "      <td>227.400000</td>\n",
       "      <td>941.000000</td>\n",
       "      <td>2.000000</td>\n",
       "    </tr>\n",
       "  </tbody>\n",
       "</table>\n",
       "</div>"
      ],
      "text/plain": [
       "                Channel   Region         Fresh          Milk       Grocery  \\\n",
       "labels_DBSCAN                                                                \n",
       "-1             1.490196  2.45098  13729.564706   8359.886275  11484.364706   \n",
       " 0             2.000000  3.00000  11401.000000   3536.200000   6729.000000   \n",
       " 1             1.000000  3.00000   9128.823077   1862.438462   2423.530769   \n",
       " 2             1.000000  3.00000  41446.600000   1421.200000   2167.600000   \n",
       " 3             2.000000  3.00000   2357.200000  10224.800000  11862.800000   \n",
       " 4             2.000000  3.00000   3068.142857   6095.857143  10355.000000   \n",
       " 5             1.000000  1.00000   9837.863636   1751.863636   2161.681818   \n",
       " 6             1.000000  1.00000   6823.000000   1943.000000   2372.666667   \n",
       " 7             1.000000  2.00000   7494.600000   1537.600000   3383.000000   \n",
       "\n",
       "                    Frozen  Detergents_Paper   Delicassen    labels  \n",
       "labels_DBSCAN                                                        \n",
       "-1             3795.003922       4356.800000  2080.470588  1.039216  \n",
       " 0              720.200000       3561.000000   258.200000  1.000000  \n",
       " 1             2131.430769        496.576923   741.946154  0.000000  \n",
       " 2             1276.400000        416.200000   784.800000  0.000000  \n",
       " 3              609.600000       5780.000000   572.800000  1.000000  \n",
       " 4              994.000000       4675.571429  1826.428571  1.000000  \n",
       " 5             1513.181818        333.954545   669.045455  2.000000  \n",
       " 6             6780.333333        386.500000   613.666667  2.000000  \n",
       " 7             2575.400000        227.400000   941.000000  2.000000  "
      ]
     },
     "execution_count": 66,
     "metadata": {},
     "output_type": "execute_result"
    }
   ],
   "source": [
    "customers.groupby('labels_DBSCAN').mean()"
   ]
  },
  {
   "cell_type": "markdown",
   "metadata": {},
   "source": [
    "Which algorithm appears to perform better?"
   ]
  },
  {
   "cell_type": "code",
   "execution_count": null,
   "metadata": {},
   "outputs": [],
   "source": [
    "# Your observations here\n",
    "#I consider DBSCAN goes further with 9 cluster, but it may not necessarily represents it performed better. "
   ]
  },
  {
   "cell_type": "markdown",
   "metadata": {},
   "source": [
    "# Bonus Challenge 2 - Changing K-Means Number of Clusters\n",
    "\n",
    "As we mentioned earlier, we don't need to worry about the number of clusters with DBSCAN because it automatically decides that based on the parameters we send to it. But with K-Means, we have to supply the `n_clusters` param (if you don't supply `n_clusters`, the algorithm will use `8` by default). You need to know that the optimal number of clusters differs case by case based on the dataset. K-Means can perform badly if the wrong number of clusters is used.\n",
    "\n",
    "In advanced machine learning, data scientists try different numbers of clusters and evaluate the results with statistical measures (read [here](https://en.wikipedia.org/wiki/Cluster_analysis#External_evaluation)). We are not using statistical measures today but we'll use our eyes instead. In the cells below, experiment with different number of clusters and visualize with scatter plots. What number of clusters seems to work best for K-Means?"
   ]
  },
  {
   "cell_type": "code",
   "execution_count": null,
   "metadata": {},
   "outputs": [],
   "source": [
    "# Your code here"
   ]
  },
  {
   "cell_type": "code",
   "execution_count": null,
   "metadata": {},
   "outputs": [],
   "source": [
    "# Your comment here"
   ]
  },
  {
   "cell_type": "markdown",
   "metadata": {},
   "source": [
    "# Bonus Challenge 3 - Changing DBSCAN `eps` and `min_samples`\n",
    "\n",
    "Experiment changing the `eps` and `min_samples` params for DBSCAN. See how the results differ with scatter plot visualization."
   ]
  },
  {
   "cell_type": "code",
   "execution_count": null,
   "metadata": {},
   "outputs": [],
   "source": [
    "# Your code here"
   ]
  },
  {
   "cell_type": "code",
   "execution_count": null,
   "metadata": {},
   "outputs": [],
   "source": [
    "# Your comment here"
   ]
  }
 ],
 "metadata": {
  "kernelspec": {
   "display_name": "Python 3",
   "language": "python",
   "name": "python3"
  },
  "language_info": {
   "codemirror_mode": {
    "name": "ipython",
    "version": 3
   },
   "file_extension": ".py",
   "mimetype": "text/x-python",
   "name": "python",
   "nbconvert_exporter": "python",
   "pygments_lexer": "ipython3",
   "version": "3.7.3"
  }
 },
 "nbformat": 4,
 "nbformat_minor": 2
}
